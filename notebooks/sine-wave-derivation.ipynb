{
 "cells": [
  {
   "cell_type": "markdown",
   "metadata": {},
   "source": [
    "# Sine Wave Derivation\n",
    "\n",
    "How to make a sine wave and write it to a WAV file with NumPy and SciPy"
   ]
  },
  {
   "cell_type": "code",
   "execution_count": 1,
   "metadata": {
    "collapsed": true
   },
   "outputs": [],
   "source": [
    "import numpy as np\n",
    "from scipy.io.wavfile import write "
   ]
  },
  {
   "cell_type": "markdown",
   "metadata": {},
   "source": [
    "## Our starting variables\n",
    "\n",
    "`sps`: The number of samples per second. Units: **sample s<sup>-1</sup>**\n",
    "\n",
    "`freq`: Frequency of sine wave in Hz. Units: **s<sup>-1</sup>**\n",
    "\n",
    "The waveform will osciallte between -1.0 and +1.0\n",
    "\n",
    "\n",
    "## Putting it together\n",
    "\n",
    "First we need to express the frequency in terms of angular frequency, recalling that there are **2π rad** in each cycle \n",
    "\n",
    "**(`freq` s<sup>-1</sup>)(2π rad) = 2π rad `freq` s<sup>-1</sup>**\n",
    "\n",
    "If we switch to the period of the waeform, we can have something like:\n",
    "\n",
    "**1 / (2π rad * `freq` s<sup>-1</sup>)**\n",
    "\n",
    "This is convenient because we need to compute values in terms of sample number, and we need **s<sup>-1</sup>** to cancel. Hence:\n",
    "\n",
    "**(`sps` sample s<sup>-1</sup>) / (2π rad * `freq` s<sup>-1</sup>) = (`sps` sample) / (2π rad * `freq`) **\n",
    "\n",
    "But ultimately we want to express the frequency to generate in Hz, not period, so we invert again:\n",
    "\n",
    "**(2π rad * `freq` ) / (`sps` sample)**\n",
    "\n",
    "Finally, I will say that\n",
    "\n",
    "**S<sub>i</sub>** is the value of the waveform at sample *i*. Unit *sample* (OK, probably not the best use of units)\n",
    "\n",
    "**S<sub>i</sub> sample = (2π rad `freq`) / (`sps` sample)**\n",
    "\n",
    "Since **2π rad** is a constant, and samples cancel, I can gather some terms and obtain:\n",
    "\n",
    "**S<sub>i</sub> sample = (2π rad) `freq` / `sps`**\n",
    "\n",
    "Now we are ready for some NumPy!\n",
    "\n",
    "\n",
    "# Using NumPy\n",
    "\n",
    "NumPy is going to be vectorized, which means it computes many values at once. So instead of explicitly iterating over a list of samples, we will make an implicit loop by first generating an array of sample numbers for NumPy to do further caluclations with.\n",
    "\n",
    "We will need to specify a duration though:\n",
    "\n",
    "`duration_s`: The duration in seconds. Units **s**\n",
    "\n",
    "Therefore the total sample we will need to compute are **`sps` sample s<sup>-1</sup> * `duration_s` s**\n",
    "\n",
    "Proceed by declaring our variables"
   ]
  },
  {
   "cell_type": "code",
   "execution_count": 2,
   "metadata": {
    "collapsed": true
   },
   "outputs": [],
   "source": [
    "sps = 44100\n",
    "freq = 440\n",
    "duration_s = 3.0"
   ]
  },
  {
   "cell_type": "markdown",
   "metadata": {},
   "source": [
    "Now we make a NumPy array that has each sample we need to calculate. Then we can place it inside the expression that will calculate the entire waveform, like so:"
   ]
  },
  {
   "cell_type": "code",
   "execution_count": 3,
   "metadata": {
    "collapsed": false
   },
   "outputs": [],
   "source": [
    "each_sample_number = np.arange(sps * duration_s)\n",
    "waveform = np.sin(2 * np.pi * each_sample_number * freq / sps)"
   ]
  },
  {
   "cell_type": "markdown",
   "metadata": {},
   "source": [
    "Our waveform is in floating points between -1.0 and +1.0. To make a wave file I need signed integers."
   ]
  },
  {
   "cell_type": "code",
   "execution_count": 4,
   "metadata": {
    "collapsed": true
   },
   "outputs": [],
   "source": [
    "waveform_integers = np.int16(waveform * 32767)"
   ]
  },
  {
   "cell_type": "markdown",
   "metadata": {},
   "source": [
    "Now I can finally write the file to an output (see the top of the file for where write comes from)"
   ]
  },
  {
   "cell_type": "code",
   "execution_count": 5,
   "metadata": {
    "collapsed": false
   },
   "outputs": [],
   "source": [
    "write('test.wav', 44100, waveform_integers)"
   ]
  },
  {
   "cell_type": "code",
   "execution_count": null,
   "metadata": {
    "collapsed": true
   },
   "outputs": [],
   "source": []
  }
 ],
 "metadata": {
  "anaconda-cloud": {},
  "kernelspec": {
   "display_name": "Python [conda root]",
   "language": "python",
   "name": "conda-root-py"
  },
  "language_info": {
   "codemirror_mode": {
    "name": "ipython",
    "version": 2
   },
   "file_extension": ".py",
   "mimetype": "text/x-python",
   "name": "python",
   "nbconvert_exporter": "python",
   "pygments_lexer": "ipython2",
   "version": "2.7.13"
  }
 },
 "nbformat": 4,
 "nbformat_minor": 1
}
