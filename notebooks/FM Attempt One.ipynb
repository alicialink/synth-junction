{
 "cells": [
  {
   "cell_type": "code",
   "execution_count": 5,
   "metadata": {
    "collapsed": false
   },
   "outputs": [
    {
     "name": "stdout",
     "output_type": "stream",
     "text": [
      "Done\n"
     ]
    }
   ],
   "source": [
    "import numpy as np\n",
    "from scipy.io.wavfile import write\n",
    "\n",
    "sps = 44100\n",
    "freq = 440\n",
    "duration_s = 3.0\n",
    "\n",
    "freq_baseband = 100\n",
    "peak_deviation = 0.1\n",
    "\n",
    "each_sample_number = range(int(sps * duration_s))\n",
    "waveform = np.zeros(len(each_sample_number))\n",
    "for i in each_sample_number:\n",
    "    waveform[i] = np.sin(2 * np.pi * i * freq / sps)\n",
    "\n",
    "waveform_quiet = waveform * 0.1\n",
    "\n",
    "waveform_integers = np.int16(waveform_quiet * 32767)\n",
    "\n",
    "write('test.wav', sps, waveform_integers)\n",
    "\n",
    "print \"Done\""
   ]
  },
  {
   "cell_type": "code",
   "execution_count": null,
   "metadata": {
    "collapsed": true
   },
   "outputs": [],
   "source": []
  }
 ],
 "metadata": {
  "kernelspec": {
   "display_name": "Python [conda root]",
   "language": "python",
   "name": "conda-root-py"
  },
  "language_info": {
   "codemirror_mode": {
    "name": "ipython",
    "version": 2
   },
   "file_extension": ".py",
   "mimetype": "text/x-python",
   "name": "python",
   "nbconvert_exporter": "python",
   "pygments_lexer": "ipython2",
   "version": "2.7.13"
  }
 },
 "nbformat": 4,
 "nbformat_minor": 2
}
