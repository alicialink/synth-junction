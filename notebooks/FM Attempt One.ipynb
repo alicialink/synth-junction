{
 "cells": [
  {
   "cell_type": "code",
   "execution_count": 4,
   "metadata": {
    "collapsed": false
   },
   "outputs": [
    {
     "name": "stdout",
     "output_type": "stream",
     "text": [
      "Done\n"
     ]
    }
   ],
   "source": [
    "import numpy as np\n",
    "from scipy.io.wavfile import write\n",
    "\n",
    "sps = 44100\n",
    "duration_s = 3.0\n",
    "\n",
    "carrier_freq = 784\n",
    "carrier_amplitude = 0.2\n",
    "\n",
    "baseband_freq = 5\n",
    "baseband_deviation = 200.0\n",
    "baseband_amplitude = 1.0\n",
    "\n",
    "coeff = baseband_amplitude * baseband_deviation / baseband_freq\n",
    "\n",
    "each_sample_number = range(int(sps * duration_s))\n",
    "waveform = np.zeros(len(each_sample_number))\n",
    "for i in each_sample_number:\n",
    "    carrier_term = 2 * np.pi * i * carrier_freq / sps\n",
    "    baseband_term = coeff * np.sin(2 * np.pi * i * baseband_freq / sps)\n",
    "    waveform[i] = np.cos(carrier_term + baseband_term)\n",
    "\n",
    "waveform_quiet = waveform * 0.2\n",
    "\n",
    "waveform_integers = np.int16(waveform_quiet * 32767)\n",
    "\n",
    "write(\"test_fm.wav\", sps, waveform_integers)\n",
    "\n",
    "print \"Done\""
   ]
  },
  {
   "cell_type": "code",
   "execution_count": null,
   "metadata": {
    "collapsed": true
   },
   "outputs": [],
   "source": []
  }
 ],
 "metadata": {
  "kernelspec": {
   "display_name": "Python [conda root]",
   "language": "python",
   "name": "conda-root-py"
  },
  "language_info": {
   "codemirror_mode": {
    "name": "ipython",
    "version": 2
   },
   "file_extension": ".py",
   "mimetype": "text/x-python",
   "name": "python",
   "nbconvert_exporter": "python",
   "pygments_lexer": "ipython2",
   "version": "2.7.13"
  }
 },
 "nbformat": 4,
 "nbformat_minor": 2
}
