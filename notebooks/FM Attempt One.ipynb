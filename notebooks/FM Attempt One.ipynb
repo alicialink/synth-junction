{
 "cells": [
  {
   "cell_type": "code",
   "execution_count": 4,
   "metadata": {
    "collapsed": false
   },
   "outputs": [
    {
     "name": "stdout",
     "output_type": "stream",
     "text": [
      "Done!\n"
     ]
    }
   ],
   "source": [
    "import numpy as np\n",
    "from scipy.io.wavfile import write\n",
    "\n",
    "sps = 44100\n",
    "freq_carrier = 440\n",
    "duration_s = 3.0\n",
    "\n",
    "freq_baseband = 100\n",
    "peak_deviation = 0.1\n",
    "\n",
    "each_sample_number = np.arange(sps * duration_s)\n",
    "magic = peak_deviation / freq_baseband\n",
    "waveform_1 = np.cos((2 * np.pi * each_sample_number * freq_carrier / sps) + magic * np.sin(2 * np.pi * each_sample_number * freq_baseband / sps))\n",
    "\n",
    "# intermediate = (self.waveform / np.max(self.waveform))\n",
    "# self.waveform = intermediate * self.max_vol\n",
    "\n",
    "waveform_2 = waveform_1 / np.max(waveform_1)\n",
    "waveform_3 = waveform_2 * 0.2\n",
    "\n",
    "waveform_3 = np.int16(waveform_2 * 32767)\n",
    "\n",
    "write('test_fm.wav', 44100, waveform_3)\n",
    "\n",
    "print \"Done!\""
   ]
  },
  {
   "cell_type": "code",
   "execution_count": null,
   "metadata": {
    "collapsed": true
   },
   "outputs": [],
   "source": []
  }
 ],
 "metadata": {
  "kernelspec": {
   "display_name": "Python [conda root]",
   "language": "python",
   "name": "conda-root-py"
  },
  "language_info": {
   "codemirror_mode": {
    "name": "ipython",
    "version": 2
   },
   "file_extension": ".py",
   "mimetype": "text/x-python",
   "name": "python",
   "nbconvert_exporter": "python",
   "pygments_lexer": "ipython2",
   "version": "2.7.13"
  }
 },
 "nbformat": 4,
 "nbformat_minor": 2
}
