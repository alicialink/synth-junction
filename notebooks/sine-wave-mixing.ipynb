{
 "cells": [
  {
   "cell_type": "markdown",
   "metadata": {},
   "source": [
    "# Sine Wave Mixing\n",
    "\n",
    "Adding sine waves into a WAV file, odd harmonics."
   ]
  },
  {
   "cell_type": "code",
   "execution_count": 12,
   "metadata": {
    "collapsed": false
   },
   "outputs": [],
   "source": [
    "import numpy as np\n",
    "from scipy.io.wavfile import write\n",
    "\n",
    "sps = 44100\n",
    "duration_s = 1.0\n",
    "max_vol = 0.5\n",
    "fundamental = 440\n",
    "each_sample_number = np.arange(sps * duration_s)\n",
    "\n",
    "def waveform(freq):\n",
    "    return np.sin(2 * np.pi * each_sample_number * freq / sps)\n",
    "\n",
    "freqs = [h  * fundamental for h in range(1, 10) if h % 2 == 1]\n",
    "\n",
    "result = np.zeros((each_sample_number.size))\n",
    "\n",
    "for freq in freqs:\n",
    "    result = np.add(result, waveform(freq))\n",
    "    \n",
    "mix = (result / np.max(result)) * max_vol\n",
    "\n",
    "write('test2.wav', 44100, np.int16(mix * 32767))\n"
   ]
  },
  {
   "cell_type": "code",
   "execution_count": null,
   "metadata": {
    "collapsed": true
   },
   "outputs": [],
   "source": []
  }
 ],
 "metadata": {
  "anaconda-cloud": {},
  "kernelspec": {
   "display_name": "Python [conda root]",
   "language": "python",
   "name": "conda-root-py"
  },
  "language_info": {
   "codemirror_mode": {
    "name": "ipython",
    "version": 2
   },
   "file_extension": ".py",
   "mimetype": "text/x-python",
   "name": "python",
   "nbconvert_exporter": "python",
   "pygments_lexer": "ipython2",
   "version": "2.7.13"
  }
 },
 "nbformat": 4,
 "nbformat_minor": 1
}
